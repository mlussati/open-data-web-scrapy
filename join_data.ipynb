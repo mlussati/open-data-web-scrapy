{
 "metadata": {
  "language_info": {
   "codemirror_mode": {
    "name": "ipython",
    "version": 3
   },
   "file_extension": ".py",
   "mimetype": "text/x-python",
   "name": "python",
   "nbconvert_exporter": "python",
   "pygments_lexer": "ipython3",
   "version": "3.8.5"
  },
  "orig_nbformat": 2,
  "kernelspec": {
   "name": "python3",
   "display_name": "Python 3",
   "language": "python"
  }
 },
 "nbformat": 4,
 "nbformat_minor": 2,
 "cells": [
  {
   "cell_type": "code",
   "execution_count": 51,
   "metadata": {},
   "outputs": [],
   "source": [
    "import pandas as pd \n",
    "import numpy as np\n",
    "from os import listdir\n",
    "from os.path import isfile, join"
   ]
  },
  {
   "cell_type": "code",
   "execution_count": 52,
   "metadata": {},
   "outputs": [],
   "source": [
    "data_list = 'data/'"
   ]
  },
  {
   "cell_type": "code",
   "execution_count": 19,
   "metadata": {},
   "outputs": [],
   "source": [
    "def get_join_dataframe(data_list):\n",
    "    dataframes = []\n",
    "    onlyfiles = [f for f in listdir(data_list) if isfile(join(data_list, f))]\n",
    "    for data in onlyfiles[:-1]:\n",
    "        df = pd.read_excel('data\\{}'.format(data))\n",
    "        dataframes.append(df)\n",
    "    df_join = pd.concat(dataframes)\n",
    "    df_join.reset_index(drop=True, inplace=True)\n",
    "    df_join.to_excel('data/month_data/price_oil_2021_02.xlsx', index = False, header=True)\n",
    "    return df_join"
   ]
  },
  {
   "cell_type": "code",
   "execution_count": 20,
   "metadata": {},
   "outputs": [],
   "source": [
    "df = get_join_dataframe(data_list)"
   ]
  },
  {
   "cell_type": "code",
   "execution_count": 21,
   "metadata": {},
   "outputs": [
    {
     "output_type": "execute_result",
     "data": {
      "text/plain": [
       "       pocos  price  change %_change        data\n",
       "0    Cabinda  63.61   -0.01   -0.02%  2021-02-18\n",
       "1      Nemba  62.61   -0.01   -0.02%  2021-02-18\n",
       "2      Dalia  63.11   -0.01   -0.02%  2021-02-18\n",
       "3   Girassol  62.80   -0.68   -1.07%  2021-02-18\n",
       "4    Cabinda  63.16   -1.81   -2.79%  2021-02-19\n",
       "5      Nemba  62.16   -1.81   -2.83%  2021-02-19\n",
       "6      Dalia  62.66   -1.81   -2.81%  2021-02-19\n",
       "7   Girassol  63.03   -0.86   -1.35%  2021-02-19\n",
       "8    Cabinda  63.16   -1.81   -2.79%  2021-02-21\n",
       "9      Nemba  62.16   -1.81   -2.83%  2021-02-21\n",
       "10     Dalia  62.66   -1.81   -2.81%  2021-02-21\n",
       "11  Girassol  63.03   -0.86   -1.35%  2021-02-21\n",
       "12   Cabinda  63.10   -0.06   -0.09%  2021-02-22\n",
       "13     Nemba  62.10   -0.06   -0.10%  2021-02-22\n",
       "14     Dalia  62.60   -0.06   -0.10%  2021-02-22\n",
       "15  Girassol  63.84    0.81   +1.29%  2021-02-22\n",
       "16   Cabinda  63.10   -0.06   -0.09%  2021-02-23\n",
       "17     Nemba  62.10   -0.06   -0.10%  2021-02-23\n",
       "18     Dalia  62.60   -0.06   -0.10%  2021-02-23\n",
       "19  Girassol  64.50    0.66   +1.03%  2021-02-23\n",
       "20   Cabinda  64.25    1.15   +1.82%  2021-02-24\n",
       "21     Nemba  63.25    1.15   +1.85%  2021-02-24\n",
       "22     Dalia  63.75    1.15   +1.84%  2021-02-24\n",
       "23  Girassol  66.10    1.60   +2.48%  2021-02-24\n",
       "24   Cabinda  66.41    2.16   +3.36%  2021-02-25\n",
       "25     Nemba  65.41    2.16   +3.42%  2021-02-25\n",
       "26     Dalia  65.91    2.16   +3.39%  2021-02-25\n",
       "27  Girassol  66.50    0.40   +0.61%  2021-02-25"
      ],
      "text/html": "<div>\n<style scoped>\n    .dataframe tbody tr th:only-of-type {\n        vertical-align: middle;\n    }\n\n    .dataframe tbody tr th {\n        vertical-align: top;\n    }\n\n    .dataframe thead th {\n        text-align: right;\n    }\n</style>\n<table border=\"1\" class=\"dataframe\">\n  <thead>\n    <tr style=\"text-align: right;\">\n      <th></th>\n      <th>pocos</th>\n      <th>price</th>\n      <th>change</th>\n      <th>%_change</th>\n      <th>data</th>\n    </tr>\n  </thead>\n  <tbody>\n    <tr>\n      <th>0</th>\n      <td>Cabinda</td>\n      <td>63.61</td>\n      <td>-0.01</td>\n      <td>-0.02%</td>\n      <td>2021-02-18</td>\n    </tr>\n    <tr>\n      <th>1</th>\n      <td>Nemba</td>\n      <td>62.61</td>\n      <td>-0.01</td>\n      <td>-0.02%</td>\n      <td>2021-02-18</td>\n    </tr>\n    <tr>\n      <th>2</th>\n      <td>Dalia</td>\n      <td>63.11</td>\n      <td>-0.01</td>\n      <td>-0.02%</td>\n      <td>2021-02-18</td>\n    </tr>\n    <tr>\n      <th>3</th>\n      <td>Girassol</td>\n      <td>62.80</td>\n      <td>-0.68</td>\n      <td>-1.07%</td>\n      <td>2021-02-18</td>\n    </tr>\n    <tr>\n      <th>4</th>\n      <td>Cabinda</td>\n      <td>63.16</td>\n      <td>-1.81</td>\n      <td>-2.79%</td>\n      <td>2021-02-19</td>\n    </tr>\n    <tr>\n      <th>5</th>\n      <td>Nemba</td>\n      <td>62.16</td>\n      <td>-1.81</td>\n      <td>-2.83%</td>\n      <td>2021-02-19</td>\n    </tr>\n    <tr>\n      <th>6</th>\n      <td>Dalia</td>\n      <td>62.66</td>\n      <td>-1.81</td>\n      <td>-2.81%</td>\n      <td>2021-02-19</td>\n    </tr>\n    <tr>\n      <th>7</th>\n      <td>Girassol</td>\n      <td>63.03</td>\n      <td>-0.86</td>\n      <td>-1.35%</td>\n      <td>2021-02-19</td>\n    </tr>\n    <tr>\n      <th>8</th>\n      <td>Cabinda</td>\n      <td>63.16</td>\n      <td>-1.81</td>\n      <td>-2.79%</td>\n      <td>2021-02-21</td>\n    </tr>\n    <tr>\n      <th>9</th>\n      <td>Nemba</td>\n      <td>62.16</td>\n      <td>-1.81</td>\n      <td>-2.83%</td>\n      <td>2021-02-21</td>\n    </tr>\n    <tr>\n      <th>10</th>\n      <td>Dalia</td>\n      <td>62.66</td>\n      <td>-1.81</td>\n      <td>-2.81%</td>\n      <td>2021-02-21</td>\n    </tr>\n    <tr>\n      <th>11</th>\n      <td>Girassol</td>\n      <td>63.03</td>\n      <td>-0.86</td>\n      <td>-1.35%</td>\n      <td>2021-02-21</td>\n    </tr>\n    <tr>\n      <th>12</th>\n      <td>Cabinda</td>\n      <td>63.10</td>\n      <td>-0.06</td>\n      <td>-0.09%</td>\n      <td>2021-02-22</td>\n    </tr>\n    <tr>\n      <th>13</th>\n      <td>Nemba</td>\n      <td>62.10</td>\n      <td>-0.06</td>\n      <td>-0.10%</td>\n      <td>2021-02-22</td>\n    </tr>\n    <tr>\n      <th>14</th>\n      <td>Dalia</td>\n      <td>62.60</td>\n      <td>-0.06</td>\n      <td>-0.10%</td>\n      <td>2021-02-22</td>\n    </tr>\n    <tr>\n      <th>15</th>\n      <td>Girassol</td>\n      <td>63.84</td>\n      <td>0.81</td>\n      <td>+1.29%</td>\n      <td>2021-02-22</td>\n    </tr>\n    <tr>\n      <th>16</th>\n      <td>Cabinda</td>\n      <td>63.10</td>\n      <td>-0.06</td>\n      <td>-0.09%</td>\n      <td>2021-02-23</td>\n    </tr>\n    <tr>\n      <th>17</th>\n      <td>Nemba</td>\n      <td>62.10</td>\n      <td>-0.06</td>\n      <td>-0.10%</td>\n      <td>2021-02-23</td>\n    </tr>\n    <tr>\n      <th>18</th>\n      <td>Dalia</td>\n      <td>62.60</td>\n      <td>-0.06</td>\n      <td>-0.10%</td>\n      <td>2021-02-23</td>\n    </tr>\n    <tr>\n      <th>19</th>\n      <td>Girassol</td>\n      <td>64.50</td>\n      <td>0.66</td>\n      <td>+1.03%</td>\n      <td>2021-02-23</td>\n    </tr>\n    <tr>\n      <th>20</th>\n      <td>Cabinda</td>\n      <td>64.25</td>\n      <td>1.15</td>\n      <td>+1.82%</td>\n      <td>2021-02-24</td>\n    </tr>\n    <tr>\n      <th>21</th>\n      <td>Nemba</td>\n      <td>63.25</td>\n      <td>1.15</td>\n      <td>+1.85%</td>\n      <td>2021-02-24</td>\n    </tr>\n    <tr>\n      <th>22</th>\n      <td>Dalia</td>\n      <td>63.75</td>\n      <td>1.15</td>\n      <td>+1.84%</td>\n      <td>2021-02-24</td>\n    </tr>\n    <tr>\n      <th>23</th>\n      <td>Girassol</td>\n      <td>66.10</td>\n      <td>1.60</td>\n      <td>+2.48%</td>\n      <td>2021-02-24</td>\n    </tr>\n    <tr>\n      <th>24</th>\n      <td>Cabinda</td>\n      <td>66.41</td>\n      <td>2.16</td>\n      <td>+3.36%</td>\n      <td>2021-02-25</td>\n    </tr>\n    <tr>\n      <th>25</th>\n      <td>Nemba</td>\n      <td>65.41</td>\n      <td>2.16</td>\n      <td>+3.42%</td>\n      <td>2021-02-25</td>\n    </tr>\n    <tr>\n      <th>26</th>\n      <td>Dalia</td>\n      <td>65.91</td>\n      <td>2.16</td>\n      <td>+3.39%</td>\n      <td>2021-02-25</td>\n    </tr>\n    <tr>\n      <th>27</th>\n      <td>Girassol</td>\n      <td>66.50</td>\n      <td>0.40</td>\n      <td>+0.61%</td>\n      <td>2021-02-25</td>\n    </tr>\n  </tbody>\n</table>\n</div>"
     },
     "metadata": {},
     "execution_count": 21
    }
   ],
   "source": [
    "df"
   ]
  }
 ]
}